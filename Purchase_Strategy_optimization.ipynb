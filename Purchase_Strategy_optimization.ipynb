{
  "nbformat": 4,
  "nbformat_minor": 0,
  "metadata": {
    "colab": {
      "provenance": [],
      "authorship_tag": "ABX9TyMdPZM5BSiEP95jfbjKC/Hx",
      "include_colab_link": true
    },
    "kernelspec": {
      "name": "python3",
      "display_name": "Python 3"
    },
    "language_info": {
      "name": "python"
    }
  },
  "cells": [
    {
      "cell_type": "markdown",
      "metadata": {
        "id": "view-in-github",
        "colab_type": "text"
      },
      "source": [
        "<a href=\"https://colab.research.google.com/github/Pamela-YC-Cheng/Analytics-Project/blob/main/Purchase_Strategy_optimization.ipynb\" target=\"_parent\"><img src=\"https://colab.research.google.com/assets/colab-badge.svg\" alt=\"Open In Colab\"/></a>"
      ]
    },
    {
      "cell_type": "code",
      "execution_count": null,
      "metadata": {
        "id": "ZrsWlLMukj5O"
      },
      "outputs": [],
      "source": [
        "import math\n",
        "import pandas as pd\n",
        "import numpy as np"
      ]
    },
    {
      "cell_type": "markdown",
      "source": [
        "A company buys inventory of four products for its production process. Annual demand, common and product specific ordering cost, unit cost, and holding cost rate are given in the table below. Assume that demand is steady."
      ],
      "metadata": {
        "id": "EFLayzSPkt1F"
      }
    },
    {
      "cell_type": "code",
      "source": [
        "# \t\tOrdering cost\n",
        "# Product｜Demand｜Common｜\tSpecific｜\tUnit｜ cost\tHolding cost rate\n",
        "#  1     ｜1000  ｜\t100  ｜  10     ｜  50\t｜ 0.2\n",
        "#  2     ｜300   ｜ \t   ｜  20     ｜  60  ｜ 0.2\n",
        "#  3     ｜100   ｜  \t   ｜  25    \t｜  30  ｜ 0.2\n",
        "#  4     ｜50    ｜    \t ｜  25    \t｜  30  ｜ 0.2"
      ],
      "metadata": {
        "id": "XraAye1a1hVR"
      },
      "execution_count": null,
      "outputs": []
    },
    {
      "cell_type": "code",
      "source": [
        "demand= [1000, 300, 100, 50]\n",
        "trans_cost= [100, 100, 100, 100]\n",
        "order_cost= [10, 20, 25, 25]\n",
        "unit_cost= [50, 60, 30, 30]\n",
        "hold_cost_percent= [0.2, 0.2, 0.2, 0.2]"
      ],
      "metadata": {
        "id": "3GQgnqQl1I6W"
      },
      "execution_count": null,
      "outputs": []
    },
    {
      "cell_type": "markdown",
      "source": [
        "## 1. If Products are sourced independently;\n",
        "Then we could use the formula Q= √(2DS)/H to calculate the optimal order size for each product"
      ],
      "metadata": {
        "id": "gTCONRBv1APw"
      }
    },
    {
      "cell_type": "code",
      "source": [
        "# Calculate holding cost per unit\n",
        "hold_cost = [uc * hc for uc, hc in zip(unit_cost, hold_cost_percent)]\n",
        "per_order_cost= [(t+ o) for t, o in zip(trans_cost, order_cost)]\n",
        "\n",
        "# Calculate optimal order size Q for each product\n",
        "optimal_Q1 = [round(math.sqrt((2*d*s)/h), 0) for d, s, h in zip(demand, per_order_cost, hold_cost)]\n",
        "\n",
        "for i, q in enumerate(optimal_Q1, start=1):\n",
        "    print(f'For product {i}, the optimal order size is {q:.1f}')"
      ],
      "metadata": {
        "colab": {
          "base_uri": "https://localhost:8080/"
        },
        "id": "hxg5GbsKFIuW",
        "outputId": "6ec33b10-2581-4a20-9ce4-faaadf138aa3"
      },
      "execution_count": null,
      "outputs": [
        {
          "output_type": "stream",
          "name": "stdout",
          "text": [
            "For product 1, the optimal order size is 148.0\n",
            "For product 2, the optimal order size is 77.0\n",
            "For product 3, the optimal order size is 65.0\n",
            "For product 4, the optimal order size is 46.0\n"
          ]
        }
      ]
    },
    {
      "cell_type": "code",
      "source": [
        "order_freq= [round((d/q),4) for d, q in zip(demand, optimal_Q1)]\n",
        "order_freq"
      ],
      "metadata": {
        "colab": {
          "base_uri": "https://localhost:8080/"
        },
        "id": "FCSMbeyvFxOi",
        "outputId": "af137a42-e79c-4436-a6b0-6a219cf43ed3"
      },
      "execution_count": null,
      "outputs": [
        {
          "output_type": "execute_result",
          "data": {
            "text/plain": [
              "[6.7568, 3.8961, 1.5385, 1.087]"
            ]
          },
          "metadata": {},
          "execution_count": 5
        }
      ]
    },
    {
      "cell_type": "code",
      "source": [
        "# annual operational cost = (holding + ordering)\n",
        "# q/2 = average inventory\n",
        "annual_h_cost = [(q / 2) * H for q, H in zip(optimal_Q1, hold_cost)]\n",
        "annual_o_cost = [round(of * s, 2) for of, s in zip(order_freq, per_order_cost)]\n",
        "\n",
        "# Calculate total annual operational cost for each product\n",
        "total_annual_op_cost = [round(hcost + ocost, 2) for hcost, ocost in zip(annual_h_cost, annual_o_cost)]\n",
        "\n",
        "# Preparing formatted output for each product\n",
        "for i, (h_cost, o_cost, total_cost) in enumerate(zip(annual_h_cost, annual_o_cost, total_annual_op_cost), start=1):\n",
        "    print(f'For product {i}, the annual holding cost is {h_cost:.2f}, the annual ordering cost is {o_cost:.2f}, and the total annual operational cost is {total_cost:.2f}')\n",
        "\n",
        "sum_total_1= sum(total_annual_op_cost)\n",
        "print(f'Total annual operational cost is', sum_total_1)"
      ],
      "metadata": {
        "colab": {
          "base_uri": "https://localhost:8080/"
        },
        "id": "Lf3mAgEcGPHa",
        "outputId": "77a6b32b-c521-483f-a0db-9b32459a4a91"
      },
      "execution_count": null,
      "outputs": [
        {
          "output_type": "stream",
          "name": "stdout",
          "text": [
            "For product 1, the annual holding cost is 740.00, the annual ordering cost is 743.25, and the total annual operational cost is 1483.25\n",
            "For product 2, the annual holding cost is 462.00, the annual ordering cost is 467.53, and the total annual operational cost is 929.53\n",
            "For product 3, the annual holding cost is 195.00, the annual ordering cost is 192.31, and the total annual operational cost is 387.31\n",
            "For product 4, the annual holding cost is 138.00, the annual ordering cost is 135.88, and the total annual operational cost is 273.88\n",
            "Total annual operational cost is 3073.97\n"
          ]
        }
      ]
    },
    {
      "cell_type": "markdown",
      "source": [
        "## 2.All four products are sourced with the same frequency"
      ],
      "metadata": {
        "id": "KAFpKORM1AKr"
      }
    },
    {
      "cell_type": "code",
      "source": [
        "# If all products are sourced with the same frequency, we will need to calculate the cost for ordering all products one time\n",
        "trans_cost = 100\n",
        "\n",
        "# Calculate total order cost when ordering together\n",
        "order_together_cost = sum(order_cost) + trans_cost\n",
        "S= order_together_cost\n",
        "print(f'The cost of ordering all products at one time is ${S}')"
      ],
      "metadata": {
        "colab": {
          "base_uri": "https://localhost:8080/"
        },
        "id": "U9zBDCDI1EEu",
        "outputId": "7efdbe07-cef7-4527-c2b7-255cebc41e8a"
      },
      "execution_count": null,
      "outputs": [
        {
          "output_type": "stream",
          "name": "stdout",
          "text": [
            "The cost of ordering all products at one time is $180\n"
          ]
        }
      ]
    },
    {
      "cell_type": "code",
      "source": [
        "DhC = sum(d* H for d, H in zip(demand, hold_cost))\n",
        "\n",
        "# Calculate optimal order frequency n\n",
        "n = math.sqrt((DhC) / (2 * S))\n",
        "n"
      ],
      "metadata": {
        "colab": {
          "base_uri": "https://localhost:8080/"
        },
        "id": "fyIpjToILYwY",
        "outputId": "30562527-980e-48a3-c5b3-c483ab1eb8e0"
      },
      "execution_count": null,
      "outputs": [
        {
          "output_type": "execute_result",
          "data": {
            "text/plain": [
              "6.346477588219924"
            ]
          },
          "metadata": {},
          "execution_count": 8
        }
      ]
    },
    {
      "cell_type": "code",
      "source": [
        "optimal_Q2= [round(d/n, 0) for d in demand]\n",
        "for i, Q2 in enumerate(optimal_Q2, start=1):\n",
        "  print(f'For product{i}, the optimal order size is {Q2}')"
      ],
      "metadata": {
        "colab": {
          "base_uri": "https://localhost:8080/"
        },
        "id": "7hMJhDJNO-OF",
        "outputId": "7686b6e3-2017-4965-c81e-ca4a3c7f7ad3"
      },
      "execution_count": null,
      "outputs": [
        {
          "output_type": "stream",
          "name": "stdout",
          "text": [
            "For product1, the optimal order size is 158.0\n",
            "For product2, the optimal order size is 47.0\n",
            "For product3, the optimal order size is 16.0\n",
            "For product4, the optimal order size is 8.0\n"
          ]
        }
      ]
    },
    {
      "cell_type": "code",
      "source": [
        "# annual operational cost = (holding + ordering)\n",
        "# q/2 = average inventory\n",
        "annual_h_cost2 = [(q / 2) * H for q, H in zip(optimal_Q2, hold_cost)]\n",
        "annual_o_cost2 = n*S\n",
        "\n",
        "# Calculate total annual operational cost for each product\n",
        "sum_total_2 = sum(annual_h_cost2)+ annual_o_cost2\n",
        "\n",
        "\n",
        "print(f'Total annual operational cost is', round(sum_total_2, 2))"
      ],
      "metadata": {
        "colab": {
          "base_uri": "https://localhost:8080/"
        },
        "id": "EnYwdN4oTAgy",
        "outputId": "f5240420-6bf0-49ec-f282-b8035cfce383"
      },
      "execution_count": null,
      "outputs": [
        {
          "output_type": "stream",
          "name": "stdout",
          "text": [
            "Total annual operational cost is 2286.37\n"
          ]
        }
      ]
    },
    {
      "cell_type": "markdown",
      "source": [
        "\n",
        "## 3. Order frequencies are determined according to the tailored aggregation strategy."
      ],
      "metadata": {
        "id": "mQ9h17q-1AE4"
      }
    },
    {
      "cell_type": "markdown",
      "source": [
        "Based on the result from Question 1, Product 1 is the most frequently ordered product, and it is 6.7568 times for per year."
      ],
      "metadata": {
        "id": "MSC9kPIh4yWQ"
      }
    },
    {
      "cell_type": "code",
      "source": [
        "# For Product 2,3, and 4, we then recompute frequencies using only ordering cost\n",
        "fre1_4= 6.7568\n",
        "demand2_4= demand[1:]\n",
        "order_cost2_4= order_cost[1:]\n",
        "hold_cost2_4= hold_cost[1:]\n",
        "\n",
        "Q2_Q4 = [round(math.sqrt((2*d*s)/h), 0) for d, s, h in zip(demand2_4, order_cost2_4, hold_cost2_4)] # only contains the result from Product 2 to Product 4\n",
        "fre2_4= [d/q for d, q in zip(demand2_4, Q2_Q4)]\n",
        "\n",
        "fre2_4"
      ],
      "metadata": {
        "colab": {
          "base_uri": "https://localhost:8080/"
        },
        "id": "zcyqO7gR1ExW",
        "outputId": "f5d8c012-bb82-450e-9f6e-31d28c0f8bc0"
      },
      "execution_count": null,
      "outputs": [
        {
          "output_type": "execute_result",
          "data": {
            "text/plain": [
              "[9.375, 3.4482758620689653, 2.5]"
            ]
          },
          "metadata": {},
          "execution_count": 11
        }
      ]
    },
    {
      "cell_type": "code",
      "source": [
        "# Calculate the m for each product\n",
        "all_m_number= [1]\n",
        "m_number2_4= []\n",
        "for i, f in enumerate(fre2_4, start=2):\n",
        "    m = math.ceil(fre1_4/ f)\n",
        "    all_m_number.append(m)\n",
        "    m_number2_4.append(m)\n",
        "\n",
        "print(all_m_number)"
      ],
      "metadata": {
        "colab": {
          "base_uri": "https://localhost:8080/"
        },
        "id": "dqPaEMm26QEa",
        "outputId": "c3d6540a-ff56-49db-ff74-cc20736701df"
      },
      "execution_count": null,
      "outputs": [
        {
          "output_type": "stream",
          "name": "stdout",
          "text": [
            "[1, 1, 2, 3]\n"
          ]
        }
      ]
    },
    {
      "cell_type": "code",
      "source": [
        "order_cost1= 110\n",
        "DD= sum(d * H * m for d, H, m in zip(demand, hold_cost, all_m_number))\n",
        "SS= 2*(order_cost1+ sum(s/m for s, m in zip(order_cost2_4, m_number2_4)))\n",
        "n1= round(math.sqrt(DD/SS), 1)\n",
        "n1"
      ],
      "metadata": {
        "colab": {
          "base_uri": "https://localhost:8080/"
        },
        "id": "JTJl2Xoi85C0",
        "outputId": "9178ae6f-f7d1-4ad7-b980-7c00eb49f2b8"
      },
      "execution_count": null,
      "outputs": [
        {
          "output_type": "execute_result",
          "data": {
            "text/plain": [
              "7.2"
            ]
          },
          "metadata": {},
          "execution_count": 13
        }
      ]
    },
    {
      "cell_type": "code",
      "source": [
        "n2_4= [n1/ m for m in m_number2_4]\n",
        "all_frequency= [n1]\n",
        "all_frequency.extend(n2_4)\n",
        "all_frequency"
      ],
      "metadata": {
        "colab": {
          "base_uri": "https://localhost:8080/"
        },
        "id": "W0oJCdDFgMkg",
        "outputId": "5d0c868c-ead1-43be-e2a6-dcb9ed0d392a"
      },
      "execution_count": null,
      "outputs": [
        {
          "output_type": "execute_result",
          "data": {
            "text/plain": [
              "[7.2, 7.2, 3.6, 2.4]"
            ]
          },
          "metadata": {},
          "execution_count": 14
        }
      ]
    },
    {
      "cell_type": "code",
      "source": [
        "optimal_Q3= [round(d/f, 0) for d, f in zip(demand, all_frequency)]\n",
        "optimal_Q3"
      ],
      "metadata": {
        "colab": {
          "base_uri": "https://localhost:8080/"
        },
        "id": "gtrJemnTj2YJ",
        "outputId": "030df863-0819-49b6-acb3-b242864166d6"
      },
      "execution_count": null,
      "outputs": [
        {
          "output_type": "execute_result",
          "data": {
            "text/plain": [
              "[139.0, 42.0, 28.0, 21.0]"
            ]
          },
          "metadata": {},
          "execution_count": 15
        }
      ]
    },
    {
      "cell_type": "code",
      "source": [
        "S_cost= [order_cost1]\n",
        "S_cost.extend(order_cost2_4)\n",
        "\n",
        "annual_o_cost3 = sum(S*f for S, f in zip(S_cost, all_frequency))\n",
        "annual_h_cost3= sum(q/2*H for q, H in zip(optimal_Q3, hold_cost))\n",
        "annual_total_3= annual_o_cost3+ annual_h_cost3\n",
        "\n",
        "print(f'Total annual operational cost is {annual_total_3}')"
      ],
      "metadata": {
        "colab": {
          "base_uri": "https://localhost:8080/"
        },
        "id": "U7GZqyj9khhm",
        "outputId": "5fe9468b-940b-4778-ecef-3873e4858d24"
      },
      "execution_count": null,
      "outputs": [
        {
          "output_type": "stream",
          "name": "stdout",
          "text": [
            "Total annual operational cost is 2180.0\n"
          ]
        }
      ]
    },
    {
      "cell_type": "code",
      "source": [],
      "metadata": {
        "id": "euvV190DlKwC"
      },
      "execution_count": null,
      "outputs": []
    }
  ]
}