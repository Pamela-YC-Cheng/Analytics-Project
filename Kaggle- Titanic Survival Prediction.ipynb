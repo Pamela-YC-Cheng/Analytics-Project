{
  "cells": [
    {
      "cell_type": "markdown",
      "metadata": {
        "id": "view-in-github",
        "colab_type": "text"
      },
      "source": [
        "<a href=\"https://colab.research.google.com/github/Pamela-YC-Cheng/Supply-Chain-Analytics/blob/main/Kaggle-%20Titanic%20Survival%20Prediction.ipynb\" target=\"_parent\"><img src=\"https://colab.research.google.com/assets/colab-badge.svg\" alt=\"Open In Colab\"/></a>"
      ]
    },
    {
      "cell_type": "code",
      "execution_count": null,
      "id": "dd8f236c",
      "metadata": {
        "id": "dd8f236c"
      },
      "outputs": [],
      "source": [
        "import pandas as pd\n",
        "import numpy as np\n",
        "import seaborn as sns\n",
        "import matplotlib.pyplot as plt"
      ]
    },
    {
      "cell_type": "code",
      "execution_count": null,
      "id": "dbf0e581",
      "metadata": {
        "id": "dbf0e581",
        "outputId": "f7de7ac5-fca4-4ba9-9e79-52fc22a1bc52"
      },
      "outputs": [
        {
          "name": "stderr",
          "output_type": "stream",
          "text": [
            "C:\\Users\\pando\\AppData\\Local\\Temp\\ipykernel_14904\\2385858210.py:3: FutureWarning: The frame.append method is deprecated and will be removed from pandas in a future version. Use pandas.concat instead.\n",
            "  df_data = df_train.append(df_test)\n"
          ]
        }
      ],
      "source": [
        "df_train= pd.read_csv(\"C:\\\\Users\\\\pando\\\\OneDrive\\\\Desktop\\\\titanic\\\\train.csv\")\n",
        "df_test= pd.read_csv(\"C:\\\\Users\\\\pando\\\\OneDrive\\\\Desktop\\\\titanic\\\\test.csv\")\n",
        "df_data = df_train.append(df_test)"
      ]
    },
    {
      "cell_type": "code",
      "execution_count": null,
      "id": "8334636e",
      "metadata": {
        "id": "8334636e",
        "outputId": "1cdd745d-4112-4e8c-bcd1-11d795ba698b"
      },
      "outputs": [
        {
          "data": {
            "text/html": [
              "<div>\n",
              "<style scoped>\n",
              "    .dataframe tbody tr th:only-of-type {\n",
              "        vertical-align: middle;\n",
              "    }\n",
              "\n",
              "    .dataframe tbody tr th {\n",
              "        vertical-align: top;\n",
              "    }\n",
              "\n",
              "    .dataframe thead th {\n",
              "        text-align: right;\n",
              "    }\n",
              "</style>\n",
              "<table border=\"1\" class=\"dataframe\">\n",
              "  <thead>\n",
              "    <tr style=\"text-align: right;\">\n",
              "      <th></th>\n",
              "      <th>PassengerId</th>\n",
              "      <th>Survived</th>\n",
              "      <th>Pclass</th>\n",
              "      <th>Name</th>\n",
              "      <th>Sex</th>\n",
              "      <th>Age</th>\n",
              "      <th>SibSp</th>\n",
              "      <th>Parch</th>\n",
              "      <th>Ticket</th>\n",
              "      <th>Fare</th>\n",
              "      <th>Cabin</th>\n",
              "      <th>Embarked</th>\n",
              "    </tr>\n",
              "  </thead>\n",
              "  <tbody>\n",
              "    <tr>\n",
              "      <th>0</th>\n",
              "      <td>1</td>\n",
              "      <td>0</td>\n",
              "      <td>3</td>\n",
              "      <td>Braund, Mr. Owen Harris</td>\n",
              "      <td>male</td>\n",
              "      <td>22.0</td>\n",
              "      <td>1</td>\n",
              "      <td>0</td>\n",
              "      <td>A/5 21171</td>\n",
              "      <td>7.2500</td>\n",
              "      <td>NaN</td>\n",
              "      <td>S</td>\n",
              "    </tr>\n",
              "    <tr>\n",
              "      <th>1</th>\n",
              "      <td>2</td>\n",
              "      <td>1</td>\n",
              "      <td>1</td>\n",
              "      <td>Cumings, Mrs. John Bradley (Florence Briggs Th...</td>\n",
              "      <td>female</td>\n",
              "      <td>38.0</td>\n",
              "      <td>1</td>\n",
              "      <td>0</td>\n",
              "      <td>PC 17599</td>\n",
              "      <td>71.2833</td>\n",
              "      <td>C85</td>\n",
              "      <td>C</td>\n",
              "    </tr>\n",
              "    <tr>\n",
              "      <th>2</th>\n",
              "      <td>3</td>\n",
              "      <td>1</td>\n",
              "      <td>3</td>\n",
              "      <td>Heikkinen, Miss. Laina</td>\n",
              "      <td>female</td>\n",
              "      <td>26.0</td>\n",
              "      <td>0</td>\n",
              "      <td>0</td>\n",
              "      <td>STON/O2. 3101282</td>\n",
              "      <td>7.9250</td>\n",
              "      <td>NaN</td>\n",
              "      <td>S</td>\n",
              "    </tr>\n",
              "    <tr>\n",
              "      <th>3</th>\n",
              "      <td>4</td>\n",
              "      <td>1</td>\n",
              "      <td>1</td>\n",
              "      <td>Futrelle, Mrs. Jacques Heath (Lily May Peel)</td>\n",
              "      <td>female</td>\n",
              "      <td>35.0</td>\n",
              "      <td>1</td>\n",
              "      <td>0</td>\n",
              "      <td>113803</td>\n",
              "      <td>53.1000</td>\n",
              "      <td>C123</td>\n",
              "      <td>S</td>\n",
              "    </tr>\n",
              "    <tr>\n",
              "      <th>4</th>\n",
              "      <td>5</td>\n",
              "      <td>0</td>\n",
              "      <td>3</td>\n",
              "      <td>Allen, Mr. William Henry</td>\n",
              "      <td>male</td>\n",
              "      <td>35.0</td>\n",
              "      <td>0</td>\n",
              "      <td>0</td>\n",
              "      <td>373450</td>\n",
              "      <td>8.0500</td>\n",
              "      <td>NaN</td>\n",
              "      <td>S</td>\n",
              "    </tr>\n",
              "  </tbody>\n",
              "</table>\n",
              "</div>"
            ],
            "text/plain": [
              "   PassengerId  Survived  Pclass  \\\n",
              "0            1         0       3   \n",
              "1            2         1       1   \n",
              "2            3         1       3   \n",
              "3            4         1       1   \n",
              "4            5         0       3   \n",
              "\n",
              "                                                Name     Sex   Age  SibSp  \\\n",
              "0                            Braund, Mr. Owen Harris    male  22.0      1   \n",
              "1  Cumings, Mrs. John Bradley (Florence Briggs Th...  female  38.0      1   \n",
              "2                             Heikkinen, Miss. Laina  female  26.0      0   \n",
              "3       Futrelle, Mrs. Jacques Heath (Lily May Peel)  female  35.0      1   \n",
              "4                           Allen, Mr. William Henry    male  35.0      0   \n",
              "\n",
              "   Parch            Ticket     Fare Cabin Embarked  \n",
              "0      0         A/5 21171   7.2500   NaN        S  \n",
              "1      0          PC 17599  71.2833   C85        C  \n",
              "2      0  STON/O2. 3101282   7.9250   NaN        S  \n",
              "3      0            113803  53.1000  C123        S  \n",
              "4      0            373450   8.0500   NaN        S  "
            ]
          },
          "execution_count": 11,
          "metadata": {},
          "output_type": "execute_result"
        }
      ],
      "source": [
        "df_train.head()"
      ]
    },
    {
      "cell_type": "code",
      "execution_count": null,
      "id": "a8868d84",
      "metadata": {
        "id": "a8868d84",
        "outputId": "876aefe9-ed33-4422-d8f1-417e156e852b"
      },
      "outputs": [
        {
          "data": {
            "text/html": [
              "<div>\n",
              "<style scoped>\n",
              "    .dataframe tbody tr th:only-of-type {\n",
              "        vertical-align: middle;\n",
              "    }\n",
              "\n",
              "    .dataframe tbody tr th {\n",
              "        vertical-align: top;\n",
              "    }\n",
              "\n",
              "    .dataframe thead th {\n",
              "        text-align: right;\n",
              "    }\n",
              "</style>\n",
              "<table border=\"1\" class=\"dataframe\">\n",
              "  <thead>\n",
              "    <tr style=\"text-align: right;\">\n",
              "      <th></th>\n",
              "      <th>PassengerId</th>\n",
              "      <th>Survived</th>\n",
              "      <th>Pclass</th>\n",
              "      <th>Age</th>\n",
              "      <th>SibSp</th>\n",
              "      <th>Parch</th>\n",
              "      <th>Fare</th>\n",
              "    </tr>\n",
              "  </thead>\n",
              "  <tbody>\n",
              "    <tr>\n",
              "      <th>count</th>\n",
              "      <td>891.000000</td>\n",
              "      <td>891.000000</td>\n",
              "      <td>891.000000</td>\n",
              "      <td>714.000000</td>\n",
              "      <td>891.000000</td>\n",
              "      <td>891.000000</td>\n",
              "      <td>891.000000</td>\n",
              "    </tr>\n",
              "    <tr>\n",
              "      <th>mean</th>\n",
              "      <td>446.000000</td>\n",
              "      <td>0.383838</td>\n",
              "      <td>2.308642</td>\n",
              "      <td>29.699118</td>\n",
              "      <td>0.523008</td>\n",
              "      <td>0.381594</td>\n",
              "      <td>32.204208</td>\n",
              "    </tr>\n",
              "    <tr>\n",
              "      <th>std</th>\n",
              "      <td>257.353842</td>\n",
              "      <td>0.486592</td>\n",
              "      <td>0.836071</td>\n",
              "      <td>14.526497</td>\n",
              "      <td>1.102743</td>\n",
              "      <td>0.806057</td>\n",
              "      <td>49.693429</td>\n",
              "    </tr>\n",
              "    <tr>\n",
              "      <th>min</th>\n",
              "      <td>1.000000</td>\n",
              "      <td>0.000000</td>\n",
              "      <td>1.000000</td>\n",
              "      <td>0.420000</td>\n",
              "      <td>0.000000</td>\n",
              "      <td>0.000000</td>\n",
              "      <td>0.000000</td>\n",
              "    </tr>\n",
              "    <tr>\n",
              "      <th>25%</th>\n",
              "      <td>223.500000</td>\n",
              "      <td>0.000000</td>\n",
              "      <td>2.000000</td>\n",
              "      <td>20.125000</td>\n",
              "      <td>0.000000</td>\n",
              "      <td>0.000000</td>\n",
              "      <td>7.910400</td>\n",
              "    </tr>\n",
              "    <tr>\n",
              "      <th>50%</th>\n",
              "      <td>446.000000</td>\n",
              "      <td>0.000000</td>\n",
              "      <td>3.000000</td>\n",
              "      <td>28.000000</td>\n",
              "      <td>0.000000</td>\n",
              "      <td>0.000000</td>\n",
              "      <td>14.454200</td>\n",
              "    </tr>\n",
              "    <tr>\n",
              "      <th>75%</th>\n",
              "      <td>668.500000</td>\n",
              "      <td>1.000000</td>\n",
              "      <td>3.000000</td>\n",
              "      <td>38.000000</td>\n",
              "      <td>1.000000</td>\n",
              "      <td>0.000000</td>\n",
              "      <td>31.000000</td>\n",
              "    </tr>\n",
              "    <tr>\n",
              "      <th>max</th>\n",
              "      <td>891.000000</td>\n",
              "      <td>1.000000</td>\n",
              "      <td>3.000000</td>\n",
              "      <td>80.000000</td>\n",
              "      <td>8.000000</td>\n",
              "      <td>6.000000</td>\n",
              "      <td>512.329200</td>\n",
              "    </tr>\n",
              "  </tbody>\n",
              "</table>\n",
              "</div>"
            ],
            "text/plain": [
              "       PassengerId    Survived      Pclass         Age       SibSp  \\\n",
              "count   891.000000  891.000000  891.000000  714.000000  891.000000   \n",
              "mean    446.000000    0.383838    2.308642   29.699118    0.523008   \n",
              "std     257.353842    0.486592    0.836071   14.526497    1.102743   \n",
              "min       1.000000    0.000000    1.000000    0.420000    0.000000   \n",
              "25%     223.500000    0.000000    2.000000   20.125000    0.000000   \n",
              "50%     446.000000    0.000000    3.000000   28.000000    0.000000   \n",
              "75%     668.500000    1.000000    3.000000   38.000000    1.000000   \n",
              "max     891.000000    1.000000    3.000000   80.000000    8.000000   \n",
              "\n",
              "            Parch        Fare  \n",
              "count  891.000000  891.000000  \n",
              "mean     0.381594   32.204208  \n",
              "std      0.806057   49.693429  \n",
              "min      0.000000    0.000000  \n",
              "25%      0.000000    7.910400  \n",
              "50%      0.000000   14.454200  \n",
              "75%      0.000000   31.000000  \n",
              "max      6.000000  512.329200  "
            ]
          },
          "execution_count": 24,
          "metadata": {},
          "output_type": "execute_result"
        }
      ],
      "source": [
        "df_train.describe()"
      ]
    },
    {
      "cell_type": "code",
      "execution_count": null,
      "id": "27d60cce",
      "metadata": {
        "id": "27d60cce",
        "outputId": "99144cdf-209d-4d9a-d485-877e13aa5e17"
      },
      "outputs": [
        {
          "data": {
            "text/plain": [
              "(891, 12)"
            ]
          },
          "execution_count": 12,
          "metadata": {},
          "output_type": "execute_result"
        }
      ],
      "source": [
        "num_rows, num_columns = df_train.shape\n",
        "num_rows, num_columns"
      ]
    },
    {
      "cell_type": "code",
      "execution_count": null,
      "id": "7bb1f1ee",
      "metadata": {
        "id": "7bb1f1ee",
        "outputId": "a7aaeda3-ab47-46e5-e5c1-5ec1449984c9"
      },
      "outputs": [
        {
          "data": {
            "text/plain": [
              "PassengerId      0\n",
              "Survived         0\n",
              "Pclass           0\n",
              "Name             0\n",
              "Sex              0\n",
              "Age            177\n",
              "SibSp            0\n",
              "Parch            0\n",
              "Ticket           0\n",
              "Fare             0\n",
              "Cabin          687\n",
              "Embarked         2\n",
              "dtype: int64"
            ]
          },
          "execution_count": 13,
          "metadata": {},
          "output_type": "execute_result"
        }
      ],
      "source": [
        "df_train.isnull().sum()"
      ]
    },
    {
      "cell_type": "code",
      "execution_count": null,
      "id": "95544da9",
      "metadata": {
        "id": "95544da9",
        "outputId": "85c556ce-0929-4af3-db20-f7bd20d18812"
      },
      "outputs": [
        {
          "name": "stdout",
          "output_type": "stream",
          "text": [
            "% of Null Age ppl who survived 0.2937853107344633\n",
            "% of All ppl survived 0.3838383838383838\n"
          ]
        }
      ],
      "source": [
        "# See th rows that contain NaN in Age columns to see whether we should drop them\n",
        "# Decided not to drop data that have NaN in Age while they are valuable\n",
        "# Calculate the % of survived in these two groups\n",
        "\n",
        "age_null10= df_train[df_train['Age'].isnull()].head()\n",
        "age_null10\n",
        "\n",
        "a_null= df_train[df_train['Age'].isnull()]['Survived']\n",
        "rate_agenull= sum(a_null)/len(a_null)\n",
        "\n",
        "all= df_train['Survived']\n",
        "rate_all= sum(all)/ len(all)\n",
        "print(\"% of Null Age ppl who survived\", rate_agenull)\n",
        "print(\"% of All ppl survived\", rate_all)"
      ]
    },
    {
      "cell_type": "code",
      "execution_count": null,
      "id": "b680239f",
      "metadata": {
        "id": "b680239f",
        "outputId": "8f7ed4d8-084e-416a-e115-9b244d8b2215"
      },
      "outputs": [
        {
          "name": "stdout",
          "output_type": "stream",
          "text": [
            "% of women who survived: 0.7420382165605095\n",
            "% of men who survived: 0.18890814558058924\n"
          ]
        }
      ],
      "source": [
        "# Calculatee the % of survived of women and men\n",
        "\n",
        "women = df_train.loc[df_train.Sex == 'female'][\"Survived\"]\n",
        "rate_women = sum(women)/len(women)\n",
        "\n",
        "men = df_train.loc[df_train.Sex == 'male'][\"Survived\"]\n",
        "rate_men = sum(men)/len(men)\n",
        "\n",
        "print(\"% of women who survived:\", rate_women)\n",
        "print(\"% of men who survived:\", rate_men)"
      ]
    },
    {
      "cell_type": "code",
      "execution_count": null,
      "id": "f8d84ae1",
      "metadata": {
        "id": "f8d84ae1",
        "outputId": "1200f77b-cfd4-4021-a1df-2c55e8f2230d"
      },
      "outputs": [
        {
          "data": {
            "text/html": [
              "<div>\n",
              "<style scoped>\n",
              "    .dataframe tbody tr th:only-of-type {\n",
              "        vertical-align: middle;\n",
              "    }\n",
              "\n",
              "    .dataframe tbody tr th {\n",
              "        vertical-align: top;\n",
              "    }\n",
              "\n",
              "    .dataframe thead th {\n",
              "        text-align: right;\n",
              "    }\n",
              "</style>\n",
              "<table border=\"1\" class=\"dataframe\">\n",
              "  <thead>\n",
              "    <tr style=\"text-align: right;\">\n",
              "      <th></th>\n",
              "      <th>PassengerId</th>\n",
              "      <th>Survived</th>\n",
              "      <th>Pclass</th>\n",
              "      <th>Sex</th>\n",
              "      <th>Age</th>\n",
              "      <th>SibSp</th>\n",
              "      <th>Parch</th>\n",
              "      <th>Ticket</th>\n",
              "      <th>Fare</th>\n",
              "      <th>Embarked</th>\n",
              "    </tr>\n",
              "  </thead>\n",
              "  <tbody>\n",
              "    <tr>\n",
              "      <th>0</th>\n",
              "      <td>1</td>\n",
              "      <td>0</td>\n",
              "      <td>3</td>\n",
              "      <td>male</td>\n",
              "      <td>22.0</td>\n",
              "      <td>1</td>\n",
              "      <td>0</td>\n",
              "      <td>A/5 21171</td>\n",
              "      <td>7.2500</td>\n",
              "      <td>S</td>\n",
              "    </tr>\n",
              "    <tr>\n",
              "      <th>1</th>\n",
              "      <td>2</td>\n",
              "      <td>1</td>\n",
              "      <td>1</td>\n",
              "      <td>female</td>\n",
              "      <td>38.0</td>\n",
              "      <td>1</td>\n",
              "      <td>0</td>\n",
              "      <td>PC 17599</td>\n",
              "      <td>71.2833</td>\n",
              "      <td>C</td>\n",
              "    </tr>\n",
              "    <tr>\n",
              "      <th>2</th>\n",
              "      <td>3</td>\n",
              "      <td>1</td>\n",
              "      <td>3</td>\n",
              "      <td>female</td>\n",
              "      <td>26.0</td>\n",
              "      <td>0</td>\n",
              "      <td>0</td>\n",
              "      <td>STON/O2. 3101282</td>\n",
              "      <td>7.9250</td>\n",
              "      <td>S</td>\n",
              "    </tr>\n",
              "    <tr>\n",
              "      <th>3</th>\n",
              "      <td>4</td>\n",
              "      <td>1</td>\n",
              "      <td>1</td>\n",
              "      <td>female</td>\n",
              "      <td>35.0</td>\n",
              "      <td>1</td>\n",
              "      <td>0</td>\n",
              "      <td>113803</td>\n",
              "      <td>53.1000</td>\n",
              "      <td>S</td>\n",
              "    </tr>\n",
              "    <tr>\n",
              "      <th>4</th>\n",
              "      <td>5</td>\n",
              "      <td>0</td>\n",
              "      <td>3</td>\n",
              "      <td>male</td>\n",
              "      <td>35.0</td>\n",
              "      <td>0</td>\n",
              "      <td>0</td>\n",
              "      <td>373450</td>\n",
              "      <td>8.0500</td>\n",
              "      <td>S</td>\n",
              "    </tr>\n",
              "    <tr>\n",
              "      <th>...</th>\n",
              "      <td>...</td>\n",
              "      <td>...</td>\n",
              "      <td>...</td>\n",
              "      <td>...</td>\n",
              "      <td>...</td>\n",
              "      <td>...</td>\n",
              "      <td>...</td>\n",
              "      <td>...</td>\n",
              "      <td>...</td>\n",
              "      <td>...</td>\n",
              "    </tr>\n",
              "    <tr>\n",
              "      <th>886</th>\n",
              "      <td>887</td>\n",
              "      <td>0</td>\n",
              "      <td>2</td>\n",
              "      <td>male</td>\n",
              "      <td>27.0</td>\n",
              "      <td>0</td>\n",
              "      <td>0</td>\n",
              "      <td>211536</td>\n",
              "      <td>13.0000</td>\n",
              "      <td>S</td>\n",
              "    </tr>\n",
              "    <tr>\n",
              "      <th>887</th>\n",
              "      <td>888</td>\n",
              "      <td>1</td>\n",
              "      <td>1</td>\n",
              "      <td>female</td>\n",
              "      <td>19.0</td>\n",
              "      <td>0</td>\n",
              "      <td>0</td>\n",
              "      <td>112053</td>\n",
              "      <td>30.0000</td>\n",
              "      <td>S</td>\n",
              "    </tr>\n",
              "    <tr>\n",
              "      <th>888</th>\n",
              "      <td>889</td>\n",
              "      <td>0</td>\n",
              "      <td>3</td>\n",
              "      <td>female</td>\n",
              "      <td>NaN</td>\n",
              "      <td>1</td>\n",
              "      <td>2</td>\n",
              "      <td>W./C. 6607</td>\n",
              "      <td>23.4500</td>\n",
              "      <td>S</td>\n",
              "    </tr>\n",
              "    <tr>\n",
              "      <th>889</th>\n",
              "      <td>890</td>\n",
              "      <td>1</td>\n",
              "      <td>1</td>\n",
              "      <td>male</td>\n",
              "      <td>26.0</td>\n",
              "      <td>0</td>\n",
              "      <td>0</td>\n",
              "      <td>111369</td>\n",
              "      <td>30.0000</td>\n",
              "      <td>C</td>\n",
              "    </tr>\n",
              "    <tr>\n",
              "      <th>890</th>\n",
              "      <td>891</td>\n",
              "      <td>0</td>\n",
              "      <td>3</td>\n",
              "      <td>male</td>\n",
              "      <td>32.0</td>\n",
              "      <td>0</td>\n",
              "      <td>0</td>\n",
              "      <td>370376</td>\n",
              "      <td>7.7500</td>\n",
              "      <td>Q</td>\n",
              "    </tr>\n",
              "  </tbody>\n",
              "</table>\n",
              "<p>891 rows × 10 columns</p>\n",
              "</div>"
            ],
            "text/plain": [
              "     PassengerId  Survived  Pclass     Sex   Age  SibSp  Parch  \\\n",
              "0              1         0       3    male  22.0      1      0   \n",
              "1              2         1       1  female  38.0      1      0   \n",
              "2              3         1       3  female  26.0      0      0   \n",
              "3              4         1       1  female  35.0      1      0   \n",
              "4              5         0       3    male  35.0      0      0   \n",
              "..           ...       ...     ...     ...   ...    ...    ...   \n",
              "886          887         0       2    male  27.0      0      0   \n",
              "887          888         1       1  female  19.0      0      0   \n",
              "888          889         0       3  female   NaN      1      2   \n",
              "889          890         1       1    male  26.0      0      0   \n",
              "890          891         0       3    male  32.0      0      0   \n",
              "\n",
              "               Ticket     Fare Embarked  \n",
              "0           A/5 21171   7.2500        S  \n",
              "1            PC 17599  71.2833        C  \n",
              "2    STON/O2. 3101282   7.9250        S  \n",
              "3              113803  53.1000        S  \n",
              "4              373450   8.0500        S  \n",
              "..                ...      ...      ...  \n",
              "886            211536  13.0000        S  \n",
              "887            112053  30.0000        S  \n",
              "888        W./C. 6607  23.4500        S  \n",
              "889            111369  30.0000        C  \n",
              "890            370376   7.7500        Q  \n",
              "\n",
              "[891 rows x 10 columns]"
            ]
          },
          "execution_count": 38,
          "metadata": {},
          "output_type": "execute_result"
        }
      ],
      "source": [
        "# Drop \"Cabin\" column while the missing values too many, might causing distortion in the prediction model\n",
        "# Drop \"Name\" column while it contains no valuable information\n",
        "df_train= df_train.drop(columns= \"Cabin\")\n",
        "df_train= df_train.drop(columns= \"Name\")\n",
        "df_train"
      ]
    },
    {
      "cell_type": "code",
      "execution_count": null,
      "id": "09d7f92f",
      "metadata": {
        "id": "09d7f92f"
      },
      "outputs": [],
      "source": [
        "df_train= df_train.drop(columns=\"Ticket\")"
      ]
    },
    {
      "cell_type": "code",
      "execution_count": null,
      "id": "b99a3d94",
      "metadata": {
        "id": "b99a3d94",
        "outputId": "6584dd45-11d1-4d3d-ac8f-7eed5080c686"
      },
      "outputs": [
        {
          "data": {
            "text/html": [
              "<div>\n",
              "<style scoped>\n",
              "    .dataframe tbody tr th:only-of-type {\n",
              "        vertical-align: middle;\n",
              "    }\n",
              "\n",
              "    .dataframe tbody tr th {\n",
              "        vertical-align: top;\n",
              "    }\n",
              "\n",
              "    .dataframe thead th {\n",
              "        text-align: right;\n",
              "    }\n",
              "</style>\n",
              "<table border=\"1\" class=\"dataframe\">\n",
              "  <thead>\n",
              "    <tr style=\"text-align: right;\">\n",
              "      <th></th>\n",
              "      <th>PassengerId</th>\n",
              "      <th>Survived</th>\n",
              "      <th>Pclass</th>\n",
              "      <th>Sex</th>\n",
              "      <th>Age</th>\n",
              "      <th>SibSp</th>\n",
              "      <th>Parch</th>\n",
              "      <th>Fare</th>\n",
              "      <th>Embarked</th>\n",
              "    </tr>\n",
              "  </thead>\n",
              "  <tbody>\n",
              "    <tr>\n",
              "      <th>0</th>\n",
              "      <td>1</td>\n",
              "      <td>0</td>\n",
              "      <td>3</td>\n",
              "      <td>0</td>\n",
              "      <td>22.0</td>\n",
              "      <td>1</td>\n",
              "      <td>0</td>\n",
              "      <td>7.2500</td>\n",
              "      <td>3.0</td>\n",
              "    </tr>\n",
              "    <tr>\n",
              "      <th>1</th>\n",
              "      <td>2</td>\n",
              "      <td>1</td>\n",
              "      <td>1</td>\n",
              "      <td>1</td>\n",
              "      <td>38.0</td>\n",
              "      <td>1</td>\n",
              "      <td>0</td>\n",
              "      <td>71.2833</td>\n",
              "      <td>1.0</td>\n",
              "    </tr>\n",
              "    <tr>\n",
              "      <th>2</th>\n",
              "      <td>3</td>\n",
              "      <td>1</td>\n",
              "      <td>3</td>\n",
              "      <td>1</td>\n",
              "      <td>26.0</td>\n",
              "      <td>0</td>\n",
              "      <td>0</td>\n",
              "      <td>7.9250</td>\n",
              "      <td>3.0</td>\n",
              "    </tr>\n",
              "    <tr>\n",
              "      <th>3</th>\n",
              "      <td>4</td>\n",
              "      <td>1</td>\n",
              "      <td>1</td>\n",
              "      <td>1</td>\n",
              "      <td>35.0</td>\n",
              "      <td>1</td>\n",
              "      <td>0</td>\n",
              "      <td>53.1000</td>\n",
              "      <td>3.0</td>\n",
              "    </tr>\n",
              "    <tr>\n",
              "      <th>4</th>\n",
              "      <td>5</td>\n",
              "      <td>0</td>\n",
              "      <td>3</td>\n",
              "      <td>0</td>\n",
              "      <td>35.0</td>\n",
              "      <td>0</td>\n",
              "      <td>0</td>\n",
              "      <td>8.0500</td>\n",
              "      <td>3.0</td>\n",
              "    </tr>\n",
              "    <tr>\n",
              "      <th>...</th>\n",
              "      <td>...</td>\n",
              "      <td>...</td>\n",
              "      <td>...</td>\n",
              "      <td>...</td>\n",
              "      <td>...</td>\n",
              "      <td>...</td>\n",
              "      <td>...</td>\n",
              "      <td>...</td>\n",
              "      <td>...</td>\n",
              "    </tr>\n",
              "    <tr>\n",
              "      <th>886</th>\n",
              "      <td>887</td>\n",
              "      <td>0</td>\n",
              "      <td>2</td>\n",
              "      <td>0</td>\n",
              "      <td>27.0</td>\n",
              "      <td>0</td>\n",
              "      <td>0</td>\n",
              "      <td>13.0000</td>\n",
              "      <td>3.0</td>\n",
              "    </tr>\n",
              "    <tr>\n",
              "      <th>887</th>\n",
              "      <td>888</td>\n",
              "      <td>1</td>\n",
              "      <td>1</td>\n",
              "      <td>1</td>\n",
              "      <td>19.0</td>\n",
              "      <td>0</td>\n",
              "      <td>0</td>\n",
              "      <td>30.0000</td>\n",
              "      <td>3.0</td>\n",
              "    </tr>\n",
              "    <tr>\n",
              "      <th>888</th>\n",
              "      <td>889</td>\n",
              "      <td>0</td>\n",
              "      <td>3</td>\n",
              "      <td>1</td>\n",
              "      <td>NaN</td>\n",
              "      <td>1</td>\n",
              "      <td>2</td>\n",
              "      <td>23.4500</td>\n",
              "      <td>3.0</td>\n",
              "    </tr>\n",
              "    <tr>\n",
              "      <th>889</th>\n",
              "      <td>890</td>\n",
              "      <td>1</td>\n",
              "      <td>1</td>\n",
              "      <td>0</td>\n",
              "      <td>26.0</td>\n",
              "      <td>0</td>\n",
              "      <td>0</td>\n",
              "      <td>30.0000</td>\n",
              "      <td>1.0</td>\n",
              "    </tr>\n",
              "    <tr>\n",
              "      <th>890</th>\n",
              "      <td>891</td>\n",
              "      <td>0</td>\n",
              "      <td>3</td>\n",
              "      <td>0</td>\n",
              "      <td>32.0</td>\n",
              "      <td>0</td>\n",
              "      <td>0</td>\n",
              "      <td>7.7500</td>\n",
              "      <td>2.0</td>\n",
              "    </tr>\n",
              "  </tbody>\n",
              "</table>\n",
              "<p>891 rows × 9 columns</p>\n",
              "</div>"
            ],
            "text/plain": [
              "     PassengerId  Survived  Pclass  Sex   Age  SibSp  Parch     Fare  Embarked\n",
              "0              1         0       3    0  22.0      1      0   7.2500       3.0\n",
              "1              2         1       1    1  38.0      1      0  71.2833       1.0\n",
              "2              3         1       3    1  26.0      0      0   7.9250       3.0\n",
              "3              4         1       1    1  35.0      1      0  53.1000       3.0\n",
              "4              5         0       3    0  35.0      0      0   8.0500       3.0\n",
              "..           ...       ...     ...  ...   ...    ...    ...      ...       ...\n",
              "886          887         0       2    0  27.0      0      0  13.0000       3.0\n",
              "887          888         1       1    1  19.0      0      0  30.0000       3.0\n",
              "888          889         0       3    1   NaN      1      2  23.4500       3.0\n",
              "889          890         1       1    0  26.0      0      0  30.0000       1.0\n",
              "890          891         0       3    0  32.0      0      0   7.7500       2.0\n",
              "\n",
              "[891 rows x 9 columns]"
            ]
          },
          "execution_count": 93,
          "metadata": {},
          "output_type": "execute_result"
        }
      ],
      "source": [
        "# set male=0, women= 1 in \"Sex\" column\n",
        "df_train[\"Sex\"] = df_train[\"Sex\"].replace(\"male\",0)\n",
        "df_train[\"Sex\"] =  df_train[\"Sex\"].replace(\"female\",1)\n",
        "#transform C=1, Q=2, S=3 (C = Cherbourg, Q = Queenstown, S = Southampton)\n",
        "df_train[\"Embarked\"] = df_train[\"Embarked\"].replace(\"C\",1)\n",
        "df_train[\"Embarked\"] = df_train[\"Embarked\"].replace(\"Q\",2)\n",
        "df_train[\"Embarked\"] = df_train[\"Embarked\"].replace(\"S\",3)\n",
        "df_train"
      ]
    },
    {
      "cell_type": "code",
      "execution_count": null,
      "id": "7a0c72ff",
      "metadata": {
        "id": "7a0c72ff",
        "outputId": "7c59e33f-03d9-4357-b1e1-b36480abcb5e"
      },
      "outputs": [
        {
          "data": {
            "text/html": [
              "<div>\n",
              "<style scoped>\n",
              "    .dataframe tbody tr th:only-of-type {\n",
              "        vertical-align: middle;\n",
              "    }\n",
              "\n",
              "    .dataframe tbody tr th {\n",
              "        vertical-align: top;\n",
              "    }\n",
              "\n",
              "    .dataframe thead th {\n",
              "        text-align: right;\n",
              "    }\n",
              "</style>\n",
              "<table border=\"1\" class=\"dataframe\">\n",
              "  <thead>\n",
              "    <tr style=\"text-align: right;\">\n",
              "      <th></th>\n",
              "      <th>PassengerId</th>\n",
              "      <th>Survived</th>\n",
              "      <th>Pclass</th>\n",
              "      <th>Sex</th>\n",
              "      <th>Age</th>\n",
              "      <th>SibSp</th>\n",
              "      <th>Parch</th>\n",
              "      <th>Fare</th>\n",
              "      <th>Embarked</th>\n",
              "    </tr>\n",
              "  </thead>\n",
              "  <tbody>\n",
              "    <tr>\n",
              "      <th>0</th>\n",
              "      <td>1</td>\n",
              "      <td>0</td>\n",
              "      <td>3</td>\n",
              "      <td>0</td>\n",
              "      <td>22.0</td>\n",
              "      <td>1</td>\n",
              "      <td>0</td>\n",
              "      <td>7.2500</td>\n",
              "      <td>3.0</td>\n",
              "    </tr>\n",
              "    <tr>\n",
              "      <th>1</th>\n",
              "      <td>2</td>\n",
              "      <td>1</td>\n",
              "      <td>1</td>\n",
              "      <td>1</td>\n",
              "      <td>38.0</td>\n",
              "      <td>1</td>\n",
              "      <td>0</td>\n",
              "      <td>71.2833</td>\n",
              "      <td>1.0</td>\n",
              "    </tr>\n",
              "    <tr>\n",
              "      <th>2</th>\n",
              "      <td>3</td>\n",
              "      <td>1</td>\n",
              "      <td>3</td>\n",
              "      <td>1</td>\n",
              "      <td>26.0</td>\n",
              "      <td>0</td>\n",
              "      <td>0</td>\n",
              "      <td>7.9250</td>\n",
              "      <td>3.0</td>\n",
              "    </tr>\n",
              "    <tr>\n",
              "      <th>3</th>\n",
              "      <td>4</td>\n",
              "      <td>1</td>\n",
              "      <td>1</td>\n",
              "      <td>1</td>\n",
              "      <td>35.0</td>\n",
              "      <td>1</td>\n",
              "      <td>0</td>\n",
              "      <td>53.1000</td>\n",
              "      <td>3.0</td>\n",
              "    </tr>\n",
              "    <tr>\n",
              "      <th>4</th>\n",
              "      <td>5</td>\n",
              "      <td>0</td>\n",
              "      <td>3</td>\n",
              "      <td>0</td>\n",
              "      <td>35.0</td>\n",
              "      <td>0</td>\n",
              "      <td>0</td>\n",
              "      <td>8.0500</td>\n",
              "      <td>3.0</td>\n",
              "    </tr>\n",
              "    <tr>\n",
              "      <th>...</th>\n",
              "      <td>...</td>\n",
              "      <td>...</td>\n",
              "      <td>...</td>\n",
              "      <td>...</td>\n",
              "      <td>...</td>\n",
              "      <td>...</td>\n",
              "      <td>...</td>\n",
              "      <td>...</td>\n",
              "      <td>...</td>\n",
              "    </tr>\n",
              "    <tr>\n",
              "      <th>885</th>\n",
              "      <td>886</td>\n",
              "      <td>0</td>\n",
              "      <td>3</td>\n",
              "      <td>1</td>\n",
              "      <td>39.0</td>\n",
              "      <td>0</td>\n",
              "      <td>5</td>\n",
              "      <td>29.1250</td>\n",
              "      <td>2.0</td>\n",
              "    </tr>\n",
              "    <tr>\n",
              "      <th>886</th>\n",
              "      <td>887</td>\n",
              "      <td>0</td>\n",
              "      <td>2</td>\n",
              "      <td>0</td>\n",
              "      <td>27.0</td>\n",
              "      <td>0</td>\n",
              "      <td>0</td>\n",
              "      <td>13.0000</td>\n",
              "      <td>3.0</td>\n",
              "    </tr>\n",
              "    <tr>\n",
              "      <th>887</th>\n",
              "      <td>888</td>\n",
              "      <td>1</td>\n",
              "      <td>1</td>\n",
              "      <td>1</td>\n",
              "      <td>19.0</td>\n",
              "      <td>0</td>\n",
              "      <td>0</td>\n",
              "      <td>30.0000</td>\n",
              "      <td>3.0</td>\n",
              "    </tr>\n",
              "    <tr>\n",
              "      <th>889</th>\n",
              "      <td>890</td>\n",
              "      <td>1</td>\n",
              "      <td>1</td>\n",
              "      <td>0</td>\n",
              "      <td>26.0</td>\n",
              "      <td>0</td>\n",
              "      <td>0</td>\n",
              "      <td>30.0000</td>\n",
              "      <td>1.0</td>\n",
              "    </tr>\n",
              "    <tr>\n",
              "      <th>890</th>\n",
              "      <td>891</td>\n",
              "      <td>0</td>\n",
              "      <td>3</td>\n",
              "      <td>0</td>\n",
              "      <td>32.0</td>\n",
              "      <td>0</td>\n",
              "      <td>0</td>\n",
              "      <td>7.7500</td>\n",
              "      <td>2.0</td>\n",
              "    </tr>\n",
              "  </tbody>\n",
              "</table>\n",
              "<p>714 rows × 9 columns</p>\n",
              "</div>"
            ],
            "text/plain": [
              "     PassengerId  Survived  Pclass  Sex   Age  SibSp  Parch     Fare  Embarked\n",
              "0              1         0       3    0  22.0      1      0   7.2500       3.0\n",
              "1              2         1       1    1  38.0      1      0  71.2833       1.0\n",
              "2              3         1       3    1  26.0      0      0   7.9250       3.0\n",
              "3              4         1       1    1  35.0      1      0  53.1000       3.0\n",
              "4              5         0       3    0  35.0      0      0   8.0500       3.0\n",
              "..           ...       ...     ...  ...   ...    ...    ...      ...       ...\n",
              "885          886         0       3    1  39.0      0      5  29.1250       2.0\n",
              "886          887         0       2    0  27.0      0      0  13.0000       3.0\n",
              "887          888         1       1    1  19.0      0      0  30.0000       3.0\n",
              "889          890         1       1    0  26.0      0      0  30.0000       1.0\n",
              "890          891         0       3    0  32.0      0      0   7.7500       2.0\n",
              "\n",
              "[714 rows x 9 columns]"
            ]
          },
          "execution_count": 95,
          "metadata": {},
          "output_type": "execute_result"
        }
      ],
      "source": [
        "df_train_anotnull= df_train[df_train['Age'].notnull()]\n",
        "df_train_anotnull"
      ]
    },
    {
      "cell_type": "code",
      "execution_count": null,
      "id": "b0a3d11a",
      "metadata": {
        "id": "b0a3d11a",
        "outputId": "6ae87d93-5511-4150-978c-85e10bdce0a3"
      },
      "outputs": [
        {
          "data": {
            "image/png": "[encoded data removed]",
            "text/plain": [
              "<Figure size 2000x2000 with 2 Axes>"
            ]
          },
          "metadata": {},
          "output_type": "display_data"
        }
      ],
      "source": [
        "#Plot heatmap to see if we should drop some of the attributes\n",
        "cols= [\"Survived\", \"Pclass\", \"Sex\", \"Age\", \"SibSp\", \"Parch\", \"Fare\", \"Embarked\"]\n",
        "cm = np.corrcoef(df_train_anotnull[cols].values.T) # returns correlation coefficients\n",
        "\n",
        "plt.figure(figsize=(20, 20))  #adjust the plot size\n",
        "\n",
        "# Heatmap visualisation of correlation coefficients\n",
        "hm = sns.heatmap(cm,             # plot rectangular data as a color-encoded matrix\n",
        "          cbar=True,         # whether to draw a colorbar\n",
        "          annot=True,        # if True, write the data value in each cell\n",
        "          square=True,       # if True, set the Axes aspect to “equal” so each cell will be square-shaped\n",
        "          fmt='.2f',         # string formatting code to use when adding annotations\n",
        "          annot_kws={'size': 15}, # keyword arguments for ax.text when annot is True (size of font)\n",
        "          yticklabels=cols,  # if True, plot the column names of the dataframe.\n",
        "          xticklabels=cols)\n",
        "\n",
        "plt.tight_layout()\n",
        "# plt.savefig('correlation_coefficient.png', dpi=300) # Saves the figure in our local disk\n",
        "plt.show()"
      ]
    },
    {
      "cell_type": "code",
      "execution_count": null,
      "id": "6a40c642",
      "metadata": {
        "id": "6a40c642"
      },
      "outputs": [],
      "source": [
        "X= df_train.iloc[:,2:]\n",
        "y= df_train.iloc[:, 1:2]"
      ]
    },
    {
      "cell_type": "code",
      "execution_count": null,
      "id": "e6486d44",
      "metadata": {
        "id": "e6486d44"
      },
      "outputs": [],
      "source": [
        "X= df_train_anotnull[[\"Pclass\", \"Sex\", \"Age\", \"SibSp\", \"Parch\"]]\n",
        "y= df_train_anotnull.iloc[:, 1:2]\n",
        "y = y.values.ravel()"
      ]
    },
    {
      "cell_type": "code",
      "execution_count": null,
      "id": "59bb771f",
      "metadata": {
        "id": "59bb771f"
      },
      "outputs": [],
      "source": [
        "from sklearn.model_selection import train_test_split\n",
        "\n",
        "\n",
        "X_train1, X_test1, y_train1, y_test1 = train_test_split(X, y, test_size=0.2, random_state=4, stratify=y)"
      ]
    },
    {
      "cell_type": "code",
      "execution_count": null,
      "id": "fad9c801",
      "metadata": {
        "id": "fad9c801",
        "outputId": "0ac197ce-3cde-4b73-d502-5a0cb855e369"
      },
      "outputs": [
        {
          "data": {
            "text/plain": [
              "0.8251748251748252"
            ]
          },
          "execution_count": 188,
          "metadata": {},
          "output_type": "execute_result"
        }
      ],
      "source": [
        "# Build logistic regression\n",
        "from sklearn.linear_model import LogisticRegression\n",
        "from sklearn.model_selection import GridSearchCV, KFold, cross_val_score\n",
        "\n",
        "\n",
        "\n",
        "lr= LogisticRegression()\n",
        "lr.fit(X_train1,y_train1)\n",
        "\n",
        "score_lr = lr.score(X_test1, y_test1)\n",
        "score_lr"
      ]
    },
    {
      "cell_type": "code",
      "execution_count": null,
      "id": "e3dfb76f",
      "metadata": {
        "id": "e3dfb76f",
        "outputId": "aef38d9a-f81e-4bad-bb2f-e3a6ea1fcb7b"
      },
      "outputs": [
        {
          "data": {
            "text/plain": [
              "0.7902097902097902"
            ]
          },
          "execution_count": 189,
          "metadata": {},
          "output_type": "execute_result"
        }
      ],
      "source": [
        "#Build KNN\n",
        "\n",
        "from sklearn.neighbors import KNeighborsClassifier\n",
        "from sklearn.pipeline import Pipeline\n",
        "\n",
        "knn= KNeighborsClassifier()\n",
        "kn= knn.fit(X_train1,y_train1)\n",
        "\n",
        "score_kn = kn.score(X_test1, y_test1)\n",
        "score_kn"
      ]
    },
    {
      "cell_type": "code",
      "execution_count": null,
      "id": "8d8aadfb",
      "metadata": {
        "id": "8d8aadfb",
        "outputId": "12b7ae51-a47c-45cf-9e18-237a2d6c0177"
      },
      "outputs": [
        {
          "data": {
            "text/plain": [
              "0.8111888111888111"
            ]
          },
          "execution_count": 190,
          "metadata": {},
          "output_type": "execute_result"
        }
      ],
      "source": [
        "#Build Decision Tree\n",
        "\n",
        "from sklearn.tree import DecisionTreeClassifier\n",
        "\n",
        "clf = DecisionTreeClassifier(criterion=\"entropy\",\n",
        "                             random_state=4,\n",
        "                             splitter=\"random\",\n",
        "                             max_depth=3,\n",
        "                             min_samples_leaf=10,\n",
        "                             min_samples_split=10)\n",
        "\n",
        "clf = clf.fit(X_train1, y_train1)\n",
        "score = clf.score(X_test1, y_test1)\n",
        "score\n"
      ]
    },
    {
      "cell_type": "code",
      "execution_count": null,
      "id": "53b7eaa2",
      "metadata": {
        "id": "53b7eaa2"
      },
      "outputs": [],
      "source": [
        "from sklearn.model_selection import GridSearchCV, KFold, cross_val_score\n",
        "inner_cv = KFold(n_splits=5, shuffle=True)\n",
        "outer_cv = KFold(n_splits=5, shuffle=True)"
      ]
    },
    {
      "cell_type": "code",
      "execution_count": null,
      "id": "271bf99d",
      "metadata": {
        "id": "271bf99d",
        "outputId": "0c8082aa-2385-4651-927e-8aa8e54e3b66"
      },
      "outputs": [
        {
          "name": "stdout",
          "output_type": "stream",
          "text": [
            "\n",
            " Parameter Tuning \n",
            "Non-nested CV f1_macro:  0.7883212844007663\n",
            "Optimal Parameter:  {'C': 1, 'penalty': 'l1', 'random_state': 1}\n",
            "Optimal Estimator:  LogisticRegression(C=1, penalty='l1', random_state=1, solver='liblinear')\n",
            "Nested CV f1_macro: 0.7905625062229426  +/-  0.04482542573922057\n"
          ]
        }
      ],
      "source": [
        "#Optimize the logistic\n",
        "\n",
        "lr = GridSearchCV(estimator=LogisticRegression(solver='liblinear'),\n",
        "                  param_grid=[{'C': [ 0.00001, 0.0001, 0.001, 0.01, 0.1 ,1 ,10 ,100, 1000, 10000, 100000, 1000000, 10000000],\n",
        "                              'penalty':['l1','l2'], 'random_state': range(1,31),}],\n",
        "                  scoring='f1_macro',\n",
        "                  cv=inner_cv)\n",
        "\n",
        "\n",
        "lr = lr.fit(X,y)\n",
        "print(\"\\n Parameter Tuning \")\n",
        "print(\"Non-nested CV f1_macro: \", lr.best_score_)\n",
        "print(\"Optimal Parameter: \", lr.best_params_)\n",
        "print(\"Optimal Estimator: \", lr.best_estimator_)\n",
        "nested_score_lr = cross_val_score(lr, X=X, y=y, cv=outer_cv)\n",
        "print(\"Nested CV f1_macro:\",nested_score_lr.mean(), \" +/- \", nested_score_lr.std())"
      ]
    },
    {
      "cell_type": "code",
      "execution_count": null,
      "id": "697b99ca",
      "metadata": {
        "id": "697b99ca",
        "outputId": "77736866-3d33-4745-fd0a-9390f5eff923"
      },
      "outputs": [
        {
          "name": "stdout",
          "output_type": "stream",
          "text": [
            "\n",
            " Parameter Tuning \n",
            "Non-nested CV recall_macro:  0.7570901943463222\n",
            "Optimal Parameter:  {'knn__n_neighbors': 11, 'knn__weights': 'distance'}\n",
            "Optimal Estimator:  Pipeline(steps=[('knn',\n",
            "                 KNeighborsClassifier(n_neighbors=11, weights='distance'))])\n",
            "Nested CV recall_macro:  0.7580656217392507  +/-  0.0248835047923741\n"
          ]
        }
      ],
      "source": [
        "#Optimize the kNN\n",
        "pipe = Pipeline([\n",
        "        ('knn', KNeighborsClassifier(p=2, metric='minkowski'))\n",
        "         ] )\n",
        "inner_cv = KFold(n_splits=5, shuffle=True)\n",
        "outer_cv = KFold(n_splits=5, shuffle=True)\n",
        "\n",
        "params = {\n",
        "        'knn__n_neighbors': range(1,21),\n",
        "        'knn__weights': ['uniform', 'distance']\n",
        "    }\n",
        "\n",
        "knn = GridSearchCV(estimator=pipe,\n",
        "                  param_grid=params,\n",
        "                  scoring='recall_macro',\n",
        "                  cv=inner_cv,\n",
        "                  n_jobs=4)\n",
        "\n",
        "knn = knn.fit(X,y)\n",
        "print(\"\\n Parameter Tuning \")\n",
        "print(\"Non-nested CV f1_macro: \", knn.best_score_)\n",
        "print(\"Optimal Parameter: \", knn.best_params_)\n",
        "print(\"Optimal Estimator: \", knn.best_estimator_) # Estimator that was chosen by the search, i.e. estimator which gave highest score\n",
        "nested_score_knn = cross_val_score(knn, X=X, y=y, cv=outer_cv)\n",
        "print(\"Nested CV f1_macro: \",nested_score_knn.mean(), \" +/- \", nested_score_knn.std())"
      ]
    },
    {
      "cell_type": "code",
      "execution_count": null,
      "id": "3932fd6a",
      "metadata": {
        "id": "3932fd6a",
        "outputId": "4fa676ff-7e0c-41f3-ae68-cfc967a5b4f2"
      },
      "outputs": [
        {
          "name": "stdout",
          "output_type": "stream",
          "text": [
            "\n",
            " dt Parameter Tuning \n",
            "Non-nested CV f1_macro:  0.8005738025264645\n",
            "Optimal Parameter:  {'criterion': 'entropy', 'max_depth': 7, 'min_samples_leaf': 2, 'min_samples_split': 2}\n",
            "Optimal Estimator:  DecisionTreeClassifier(criterion='entropy', max_depth=7, min_samples_leaf=2,\n",
            "                       random_state=4)\n",
            "Nested CV f1_macro:  0.7916847828277429  +/-  0.04210917317931169\n"
          ]
        }
      ],
      "source": [
        "#Optimize the Decision Tree\n",
        "\n",
        "dt = GridSearchCV(estimator=DecisionTreeClassifier(random_state=4),\n",
        "                  param_grid=[{'max_depth': [1, 2, 3, 4, 5, 6, 7, None],\n",
        "                               'criterion':['gini','entropy'],\n",
        "                               'min_samples_leaf':[1,2,3,4,5],\n",
        "                               'min_samples_split':[2,3,4,5]}],\n",
        "                  scoring='f1_macro',\n",
        "                  cv=inner_cv,\n",
        "                  n_jobs=4)\n",
        "\n",
        "dt = dt.fit(X,y)\n",
        "print(\"\\n dt Parameter Tuning \")\n",
        "print(\"Non-nested CV f1_macro: \", dt.best_score_)\n",
        "print(\"Optimal Parameter: \", dt.best_params_)\n",
        "print(\"Optimal Estimator: \", dt.best_estimator_)\n",
        "nested_score_dt = cross_val_score(dt, X=X, y=y, cv=outer_cv)\n",
        "print(\"Nested CV f1_macro: \",nested_score_dt.mean(), \" +/- \", nested_score_dt.std())"
      ]
    },
    {
      "cell_type": "code",
      "execution_count": null,
      "id": "d42bb4f6",
      "metadata": {
        "id": "d42bb4f6"
      },
      "outputs": [],
      "source": [
        "drop_cols= [\"Name\", \"Ticket\", \"Cabin\",\"Fare\", \"Embarked\"]\n",
        "df_test2= df_test.drop(columns= drop_cols)\n",
        "df_test2['Sex']=df_test2['Sex'].replace('male',0)\n",
        "df_test2['Sex']=df_test2['Sex'].replace('female',1)\n",
        "\n",
        "\n",
        "X_test= df_test2"
      ]
    },
    {
      "cell_type": "code",
      "execution_count": null,
      "id": "727de92c",
      "metadata": {
        "id": "727de92c",
        "outputId": "bbe3a009-4bd5-401b-b5e1-748041f9a487"
      },
      "outputs": [
        {
          "name": "stdout",
          "output_type": "stream",
          "text": [
            "Pclass     0\n",
            "Sex        0\n",
            "Age       86\n",
            "SibSp      0\n",
            "Parch      0\n",
            "dtype: int64\n",
            "        Pclass  Sex  Age  SibSp  Parch\n",
            "Pclass                                \n",
            "1            0    0    9      0      0\n",
            "2            0    0    5      0      0\n",
            "3            0    0   72      0      0\n"
          ]
        }
      ],
      "source": [
        "# Step 1: Store the PassengerId for later use\n",
        "passenger_ids = X_test['PassengerId'].copy()\n",
        "\n",
        "# Step 2: Drop PassengerId column from X_test before making predictions\n",
        "X_test_modified = X_test.drop(columns='PassengerId')\n",
        "\n",
        "print(X_test_modified.isnull().sum())\n",
        "\n",
        "# Group by 'Pclass' and then sum the missing values for each group\n",
        "missing_values_by_pclass = X_test_modified.groupby('Pclass').apply(lambda x: x.isnull().sum())\n",
        "\n",
        "# Display the result\n",
        "print(missing_values_by_pclass)"
      ]
    },
    {
      "cell_type": "code",
      "execution_count": null,
      "id": "a95b44a8",
      "metadata": {
        "id": "a95b44a8",
        "outputId": "435f6209-102b-42bb-c4b7-f0f993911658"
      },
      "outputs": [
        {
          "name": "stdout",
          "output_type": "stream",
          "text": [
            "        Pclass  Sex  Age  SibSp  Parch\n",
            "Pclass                                \n",
            "1            0    0    0      0      0\n",
            "2            0    0    0      0      0\n",
            "3            0    0    0      0      0\n"
          ]
        }
      ],
      "source": [
        "med_age_c1= X_test_modified[X_test_modified['Pclass'] ==1]['Age'].median()\n",
        "med_age_c2= X_test_modified[X_test_modified['Pclass'] ==2]['Age'].median()\n",
        "med_age_c3= X_test_modified[X_test_modified['Pclass'] ==3]['Age'].median()\n",
        "\n",
        "X_test_modified.loc[(X_test_modified['Pclass'] ==1) & (X_test_modified['Age'].isnull()), 'Age'] = med_age_c1\n",
        "X_test_modified.loc[(X_test_modified['Pclass'] == 2) & (X_test_modified['Age'].isnull()), 'Age'] = med_age_c2\n",
        "X_test_modified.loc[(X_test_modified['Pclass'] == 3) & (X_test_modified['Age'].isnull()), 'Age'] = med_age_c3\n",
        "\n",
        "# Group by 'Pclass' and then sum the missing values for each group\n",
        "missing_values_by_pclass = X_test_modified.groupby('Pclass').apply(lambda x: x.isnull().sum())\n",
        "\n",
        "# Display the result\n",
        "print(missing_values_by_pclass)"
      ]
    },
    {
      "cell_type": "code",
      "execution_count": null,
      "id": "c8465376",
      "metadata": {
        "id": "c8465376",
        "outputId": "00234670-4850-43f9-f1dc-3f36e834dbb5"
      },
      "outputs": [
        {
          "name": "stdout",
          "output_type": "stream",
          "text": [
            "Your submission was successfully saved!\n"
          ]
        }
      ],
      "source": [
        "from sklearn.tree import DecisionTreeClassifier\n",
        "\n",
        "best_tree= DecisionTreeClassifier(criterion='entropy', max_depth=7, min_samples_leaf=2,\n",
        "                       random_state=4)\n",
        "best_tree.fit(X, y)\n",
        "\n",
        "predictions = best_tree.predict(X_test_modified)\n",
        "\n",
        "output = pd.DataFrame({'PassengerId': X_test.PassengerId, 'Survived': predictions})\n",
        "output.to_csv('submission.csv', index=False)\n",
        "print(\"Your submission was successfully saved!\")"
      ]
    },
    {
      "cell_type": "code",
      "execution_count": null,
      "id": "b53dd1c6",
      "metadata": {
        "id": "b53dd1c6"
      },
      "outputs": [],
      "source": [
        "#Let's Try Diff way: Use differnet model for data w age N data w/o age"
      ]
    },
    {
      "cell_type": "code",
      "execution_count": null,
      "id": "db1f0c8f",
      "metadata": {
        "id": "db1f0c8f"
      },
      "outputs": [],
      "source": [
        "# Seperate\n",
        "X_train_noage=df_train[df_train['Age'].isnull()][['Pclass', 'Sex', 'SibSp', 'Parch']]\n",
        "y_train_noage=df_train[df_train['Age'].isnull()]['Survived']\n",
        "\n",
        "X_train_wage=df_train[df_train['Age'].notnull()][['Pclass', 'Sex', 'Age', 'SibSp', 'Parch']]\n",
        "y_train_wage=df_train[df_train['Age'].notnull()]['Survived']"
      ]
    },
    {
      "cell_type": "code",
      "execution_count": null,
      "id": "0cb2a469",
      "metadata": {
        "id": "0cb2a469",
        "outputId": "22817215-7ced-4996-c764-850801bb1219"
      },
      "outputs": [
        {
          "name": "stdout",
          "output_type": "stream",
          "text": [
            "\n",
            " dt Parameter Tuning \n",
            "Non-nested CV f1_macro:  0.809589391824751\n",
            "Optimal Parameter:  {'criterion': 'gini', 'max_depth': 4, 'min_samples_leaf': 1, 'min_samples_split': 2}\n",
            "Optimal Estimator:  DecisionTreeClassifier(max_depth=4, random_state=4)\n",
            "Nested CV f1_macro:  0.7824306525009577  +/-  0.03486995002269691\n"
          ]
        }
      ],
      "source": [
        "#Optimize the Decision Tree\n",
        "\n",
        "\n",
        "dt1 = GridSearchCV(estimator=DecisionTreeClassifier(random_state=4),\n",
        "                  param_grid=[{'max_depth': [1, 2, 3, 4, 5, 6, 7, None],\n",
        "                               'criterion':['gini','entropy'],\n",
        "                               'min_samples_leaf':[1,2,3,4,5],\n",
        "                               'min_samples_split':[2,3,4,5]}],\n",
        "                  scoring='f1_macro',\n",
        "                  cv=inner_cv,\n",
        "                  n_jobs=4)\n",
        "\n",
        "dt1 = dt1.fit(X_train_noage,y_train__noage)\n",
        "print(\"\\n dt Parameter Tuning \")\n",
        "print(\"Non-nested CV f1_macro: \", dt1.best_score_)\n",
        "print(\"Optimal Parameter: \", dt1.best_params_)\n",
        "print(\"Optimal Estimator: \", dt1.best_estimator_)\n",
        "nested_score_dt1 = cross_val_score(dt1, X=X_train_noage, y=y_train__noage, cv=outer_cv)\n",
        "print(\"Nested CV f1_macro: \",nested_score_dt1.mean(), \" +/- \", nested_score_dt1.std())"
      ]
    },
    {
      "cell_type": "code",
      "execution_count": null,
      "id": "916b27ac",
      "metadata": {
        "id": "916b27ac",
        "outputId": "9f148722-574d-43ba-ba64-8009bdb4d6e3"
      },
      "outputs": [
        {
          "name": "stdout",
          "output_type": "stream",
          "text": [
            "\n",
            " dt Parameter Tuning \n",
            "Non-nested CV f1_macro:  0.8087724870045963\n",
            "Optimal Parameter:  {'criterion': 'gini', 'max_depth': 6, 'min_samples_leaf': 1, 'min_samples_split': 2}\n",
            "Optimal Estimator:  DecisionTreeClassifier(max_depth=6, random_state=4)\n",
            "Nested CV f1_macro:  0.8036877692942375  +/-  0.02912223413577796\n"
          ]
        }
      ],
      "source": [
        "#Optimize the Decision Tree\n",
        "\n",
        "dt2 = GridSearchCV(estimator=DecisionTreeClassifier(random_state=4),\n",
        "                  param_grid=[{'max_depth': [1, 2, 3, 4, 5, 6, 7, None],\n",
        "                               'criterion':['gini','entropy'],\n",
        "                               'min_samples_leaf':[1,2,3,4,5],\n",
        "                               'min_samples_split':[2,3,4,5]}],\n",
        "                  scoring='f1_macro',\n",
        "                  cv=inner_cv,\n",
        "                  n_jobs=4)\n",
        "\n",
        "dt2 = dt2.fit(X_train_noage,y_train__noage)\n",
        "print(\"\\n dt Parameter Tuning \")\n",
        "print(\"Non-nested CV f1_macro: \", dt2.best_score_)\n",
        "print(\"Optimal Parameter: \", dt2.best_params_)\n",
        "print(\"Optimal Estimator: \", dt2.best_estimator_)\n",
        "nested_score_dt2 = cross_val_score(dt2, X=X_train_wage, y=y_train_wage, cv=outer_cv)\n",
        "print(\"Nested CV f1_macro: \",nested_score_dt2.mean(), \" +/- \", nested_score_dt2.std())"
      ]
    },
    {
      "cell_type": "code",
      "execution_count": null,
      "id": "a9afbeea",
      "metadata": {
        "id": "a9afbeea",
        "outputId": "64ffe6dd-3148-4b0f-b05a-b9763c7fb3b9"
      },
      "outputs": [
        {
          "name": "stdout",
          "output_type": "stream",
          "text": [
            "\n",
            " Parameter Tuning \n",
            "Non-nested CV f1_macro:  0.7870072546811748\n",
            "Optimal Parameter:  {'C': 10, 'penalty': 'l1', 'random_state': 1}\n",
            "Optimal Estimator:  LogisticRegression(C=10, penalty='l1', random_state=1, solver='liblinear')\n",
            "Nested CV f1_macro: 0.8067736928842134  +/-  0.052981929851546705\n"
          ]
        }
      ],
      "source": [
        "#Optimize the logistic\n",
        "\n",
        "lr1 = GridSearchCV(estimator=LogisticRegression(solver='liblinear'),\n",
        "                  param_grid=[{'C': [ 0.00001, 0.0001, 0.001, 0.01, 0.1 ,1 ,10 ,100, 1000, 10000, 100000, 1000000, 10000000],\n",
        "                              'penalty':['l1','l2'], 'random_state': range(1,31),}],\n",
        "                  scoring='f1_macro',\n",
        "                  cv=inner_cv)\n",
        "\n",
        "\n",
        "lr1 = lr1.fit(X,y)\n",
        "print(\"\\n Parameter Tuning \")\n",
        "print(\"Non-nested CV f1_macro: \", lr1.best_score_)\n",
        "print(\"Optimal Parameter: \", lr1.best_params_)\n",
        "print(\"Optimal Estimator: \", lr1.best_estimator_)\n",
        "nested_score_lr1 = cross_val_score(lr1, X= X_train_noage, y= y_train_noage, cv=outer_cv)\n",
        "print(\"Nested CV f1_macro:\",nested_score_lr1.mean(), \" +/- \", nested_score_lr1.std())"
      ]
    },
    {
      "cell_type": "code",
      "execution_count": null,
      "id": "4185b077",
      "metadata": {
        "id": "4185b077",
        "outputId": "a4d8642e-dab2-49be-d51c-a2fdefa7d217"
      },
      "outputs": [
        {
          "name": "stdout",
          "output_type": "stream",
          "text": [
            "\n",
            " Parameter Tuning \n",
            "Non-nested CV f1_macro:  0.794343221148274\n",
            "Optimal Parameter:  {'C': 10, 'penalty': 'l1', 'random_state': 1}\n",
            "Optimal Estimator:  LogisticRegression(C=10, penalty='l1', random_state=1, solver='liblinear')\n",
            "Nested CV f1_macro: 0.79073695069879  +/-  0.04318292539226292\n"
          ]
        }
      ],
      "source": [
        "#Optimize the logistic\n",
        "\n",
        "lr2 = GridSearchCV(estimator=LogisticRegression(solver='liblinear'),\n",
        "                  param_grid=[{'C': [ 0.00001, 0.0001, 0.001, 0.01, 0.1 ,1 ,10 ,100, 1000, 10000, 100000, 1000000, 10000000],\n",
        "                              'penalty':['l1','l2'], 'random_state': range(1,31),}],\n",
        "                  scoring='f1_macro',\n",
        "                  cv=inner_cv)\n",
        "\n",
        "\n",
        "lr2 = lr2.fit(X,y)\n",
        "print(\"\\n Parameter Tuning \")\n",
        "print(\"Non-nested CV f1_macro: \", lr2.best_score_)\n",
        "print(\"Optimal Parameter: \", lr2.best_params_)\n",
        "print(\"Optimal Estimator: \", lr2.best_estimator_)\n",
        "nested_score_lr2 = cross_val_score(lr2, X=X_train_wage, y=y_train_wage, cv=outer_cv)\n",
        "print(\"Nested CV f1_macro:\",nested_score_lr2.mean(), \" +/- \", nested_score_lr2.std())"
      ]
    },
    {
      "cell_type": "code",
      "execution_count": null,
      "id": "8b96e42a",
      "metadata": {
        "id": "8b96e42a"
      },
      "outputs": [],
      "source": [
        "#Decision Tree works better on both w no age and w age dataset\n",
        "#I seperated dataset into two part> with age and without age, and further applied them with different models."
      ]
    },
    {
      "cell_type": "code",
      "execution_count": null,
      "id": "fc42118b",
      "metadata": {
        "id": "fc42118b"
      },
      "outputs": [],
      "source": [
        "df_test_noage= df_test[df_test['Age'].isnull()][[\"PassengerId\",'Pclass', 'Sex',  'SibSp', 'Parch']]\n",
        "df_test_wage= df_test[df_test['Age'].notnull()][[\"PassengerId\",'Pclass', 'Sex', 'Age','SibSp', 'Parch']]"
      ]
    },
    {
      "cell_type": "code",
      "execution_count": null,
      "id": "551a1e71",
      "metadata": {
        "id": "551a1e71"
      },
      "outputs": [],
      "source": [
        "df_test_noage_m= df_test_noage.drop(columns='PassengerId')\n",
        "df_test_wage_m= df_test_wage.drop(columns='PassengerId')\n",
        "\n",
        "df_test_noage_m['Sex']= df_test_noage_m['Sex'].replace('male',0)\n",
        "df_test_noage_m['Sex']= df_test_noage_m['Sex'].replace('female',1)\n",
        "\n",
        "df_test_wage_m['Sex']= df_test_wage_m['Sex'].replace('male',0)\n",
        "df_test_wage_m['Sex']= df_test_wage_m['Sex'].replace('female',1)"
      ]
    },
    {
      "cell_type": "code",
      "execution_count": null,
      "id": "ca9a11fd",
      "metadata": {
        "id": "ca9a11fd"
      },
      "outputs": [],
      "source": [
        "from sklearn.tree import DecisionTreeClassifier\n",
        "\n",
        "\n",
        "best_t_noage= DecisionTreeClassifier(criterion='gini', max_depth=4, min_samples_leaf=1, min_samples_split=2,\n",
        "                       random_state=4)\n",
        "best_t_noage.fit(X_train_noage, y_train_noage)\n",
        "\n",
        "predictions1 = best_t_noage.predict(df_test_noage_m)\n",
        "\n",
        "output1 = pd.DataFrame({'PassengerId': df_test_noage.PassengerId, 'Survived': predictions1})\n",
        "\n"
      ]
    },
    {
      "cell_type": "code",
      "execution_count": null,
      "id": "1c8ea662",
      "metadata": {
        "id": "1c8ea662",
        "outputId": "433edc54-6b2f-4850-9bfe-ea6c829d96ba"
      },
      "outputs": [
        {
          "name": "stdout",
          "output_type": "stream",
          "text": [
            "Your submission was successfully saved!\n"
          ]
        }
      ],
      "source": [
        "from sklearn.tree import DecisionTreeClassifier\n",
        "\n",
        "best_t_wage= DecisionTreeClassifier(criterion='gini', max_depth=6, min_samples_leaf=1, min_samples_split=2,\n",
        "                       random_state=4)\n",
        "best_t_wage.fit(X_train_wage, y_train_wage)\n",
        "\n",
        "predictions2 = best_t_wage.predict(df_test_wage_m)\n",
        "\n",
        "output2 = pd.DataFrame({'PassengerId': df_test_wage.PassengerId, 'Survived': predictions2})\n",
        "\n",
        "output_combine= pd.concat([output1, output2], ignore_index=True)\n",
        "output_combine.to_csv('submission_combine.csv', index=False)\n",
        "print(\"Your submission was successfully saved!\")"
      ]
    },
    {
      "cell_type": "code",
      "execution_count": null,
      "id": "b2468fae",
      "metadata": {
        "id": "b2468fae"
      },
      "outputs": [],
      "source": []
    }
  ],
  "metadata": {
    "kernelspec": {
      "display_name": "Python 3 (ipykernel)",
      "language": "python",
      "name": "python3"
    },
    "language_info": {
      "codemirror_mode": {
        "name": "ipython",
        "version": 3
      },
      "file_extension": ".py",
      "mimetype": "text/x-python",
      "name": "python",
      "nbconvert_exporter": "python",
      "pygments_lexer": "ipython3",
      "version": "3.10.9"
    },
    "colab": {
      "provenance": [],
      "include_colab_link": true
    }
  },
  "nbformat": 4,
  "nbformat_minor": 5
}